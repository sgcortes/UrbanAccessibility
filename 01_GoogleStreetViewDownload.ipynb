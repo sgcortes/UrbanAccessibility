{
  "nbformat": 4,
  "nbformat_minor": 0,
  "metadata": {
    "colab": {
      "provenance": [],
      "authorship_tag": "ABX9TyPQtxJMXjYoGNV7cZrLSGv0",
      "include_colab_link": true
    },
    "kernelspec": {
      "name": "python3",
      "display_name": "Python 3"
    },
    "language_info": {
      "name": "python"
    }
  },
  "cells": [
    {
      "cell_type": "markdown",
      "metadata": {
        "id": "view-in-github",
        "colab_type": "text"
      },
      "source": [
        "<a href=\"https://colab.research.google.com/github/sgcortes/UrbanAccessibility/blob/main/01_GoogleStreetViewDownload.ipynb\" target=\"_parent\"><img src=\"https://colab.research.google.com/assets/colab-badge.svg\" alt=\"Open In Colab\"/></a>"
      ]
    },
    {
      "cell_type": "markdown",
      "source": [],
      "metadata": {
        "id": "HE2A9akga7Id"
      }
    },
    {
      "cell_type": "markdown",
      "source": [
        "## SCRIPT DESCARGA IMAGENES GOOGLE STREET VIEW"
      ],
      "metadata": {
        "id": "OlFSG0ahjWnR"
      }
    },
    {
      "cell_type": "code",
      "execution_count": null,
      "metadata": {
        "id": "huwwxB0PjU3k"
      },
      "outputs": [],
      "source": [
        "from streetview import search_panoramas\n",
        "from streetview.download import get_width_and_height_from_zoom, iter_tiles\n",
        "\n",
        "from PIL import Image\n",
        "\n",
        "import numpy as np\n",
        "\n",
        "def autocrop(image, threshold=0):\n",
        "\t\"\"\"Crops any edges below or equal to threshold\n",
        "\tCrops blank image to 1x1.\n",
        "\tReturns cropped image.\n",
        "\t\"\"\"\n",
        "\tif len(image.shape) == 3:\n",
        "\t\tflatImage = np.max(image, 2)\n",
        "\telse:\n",
        "\t\tflatImage = image\n",
        "\tassert len(flatImage.shape) == 2\n",
        "\n",
        "\trows = np.where(np.max(flatImage, 0) > threshold)[0]\n",
        "\tif rows.size:\n",
        "\t\tcols = np.where(np.max(flatImage, 1) > threshold)[0]\n",
        "\t\timage = image[cols[0]: cols[-1] + 1, rows[0]: rows[-1] + 1]\n",
        "\telse:\n",
        "\t\timage = image[:1, :1]\n",
        "\n",
        "\treturn image\n",
        "\n",
        "def props(cls):\n",
        "\treturn [i for i in cls.__dict__.keys() if i[:1] != '_']\n",
        "\n",
        "\n",
        "def get_panorama_tiles(pano_id: str, zoom: int = 5, multi_threaded: bool = False, outfile: str = \"\") -> Image.Image:\n",
        "\t\"\"\"\n",
        "\tDownloads a streetview panorama.\n",
        "\tMulti-threaded is a lot faster, but it's also a lot more likely to get you banned.\n",
        "\t\"\"\"\n",
        "\n",
        "\ttile_width = 512\n",
        "\ttile_height = 512\n",
        "\n",
        "\ttotal_width, total_height = get_width_and_height_from_zoom(zoom)\n",
        "\tpanorama = Image.new(\"RGB\", (total_width * tile_width, total_height * tile_height))\n",
        "\n",
        "\tit = 0\n",
        "\n",
        "\tfor tile in iter_tiles(pano_id=pano_id, zoom=zoom, multi_threaded=multi_threaded):\n",
        "\t\tpanorama.paste(im=tile.image, box=(tile.x * tile_width, tile.y * tile_height))\n",
        "\t\ttile.image.save(\"%s_%d.jpg\" % (outfile, it))\n",
        "\t\tit+=1\n",
        "\t\tdel tile\n",
        "\n",
        "\treturn panorama\n",
        "\n",
        "#panos = search_panoramas(lat=41.8982208, lon=12.4764804)\n",
        "panos = search_panoramas(lat=43.3577835, lon=-5.8532249)\n",
        "\n",
        "print(\"Found %d panoramas\" % len(panos))\n",
        "\n",
        "import csv\n",
        "\n",
        "with open('output.csv','w') as f:\n",
        "\twriter = csv.writer(f)\n",
        "\twriter.writerow(props(panos[0]))\n",
        "\twriter.writerows([list(p.__dict__.values()) for p in panos])\n",
        "\n",
        "#for i in range(len(panos)):\n",
        "#for i in np.arange(0,len(panos)):\n",
        "for i in [0]:\n",
        "\tpano_id = panos[i].pano_id\n",
        "\n",
        "\tof = \"image_%02d\" % i\n",
        "\n",
        "\timage = get_panorama_tiles(pano_id=pano_id, multi_threaded=True, outfile=of)\n",
        "\timage_cropped = Image.fromarray(autocrop(np.array(image)).astype('uint8'), 'RGB')\n",
        "\timage_cropped.save(\"image_%02d.jpg\" % i, \"jpeg\")\n",
        "\n",
        "\tprint(\"%s.jpg\" % of, list(panos[i].__dict__.values()))\n"
      ]
    }
  ]
}