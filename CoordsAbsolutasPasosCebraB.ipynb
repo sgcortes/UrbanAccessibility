{
  "nbformat": 4,
  "nbformat_minor": 0,
  "metadata": {
    "colab": {
      "provenance": [],
      "include_colab_link": true
    },
    "kernelspec": {
      "name": "python3",
      "display_name": "Python 3"
    },
    "language_info": {
      "name": "python"
    }
  },
  "cells": [
    {
      "cell_type": "markdown",
      "metadata": {
        "id": "view-in-github",
        "colab_type": "text"
      },
      "source": [
        "<a href=\"https://colab.research.google.com/github/sgcortes/UrbanAccessibility/blob/main/CoordsAbsolutasPasosCebraB.ipynb\" target=\"_parent\"><img src=\"https://colab.research.google.com/assets/colab-badge.svg\" alt=\"Open In Colab\"/></a>"
      ]
    },
    {
      "cell_type": "markdown",
      "source": [
        "## Conversión a Coords Absolutas de las coordenadas de los pasos de cebra detectados\n"
      ],
      "metadata": {
        "id": "BKmX8z-VkZLM"
      }
    },
    {
      "cell_type": "code",
      "source": [
        "!pip install pyshp\n",
        "!pip install owslib"
      ],
      "metadata": {
        "colab": {
          "base_uri": "https://localhost:8080/"
        },
        "id": "4JitsBZfY1M9",
        "outputId": "d2091ca3-3802-4035-eaef-99dd85765ec5"
      },
      "execution_count": 1,
      "outputs": [
        {
          "output_type": "stream",
          "name": "stdout",
          "text": [
            "Requirement already satisfied: pyshp in /usr/local/lib/python3.10/dist-packages (2.3.1)\n",
            "Collecting owslib\n",
            "  Downloading OWSLib-0.30.0-py2.py3-none-any.whl (222 kB)\n",
            "\u001b[2K     \u001b[90m━━━━━━━━━━━━━━━━━━━━━━━━━━━━━━━━━━━━━━━━\u001b[0m \u001b[32m222.8/222.8 kB\u001b[0m \u001b[31m1.5 MB/s\u001b[0m eta \u001b[36m0:00:00\u001b[0m\n",
            "\u001b[?25hRequirement already satisfied: lxml in /usr/local/lib/python3.10/dist-packages (from owslib) (4.9.4)\n",
            "Requirement already satisfied: python-dateutil>=1.5 in /usr/local/lib/python3.10/dist-packages (from owslib) (2.8.2)\n",
            "Requirement already satisfied: pytz in /usr/local/lib/python3.10/dist-packages (from owslib) (2023.4)\n",
            "Requirement already satisfied: pyyaml in /usr/local/lib/python3.10/dist-packages (from owslib) (6.0.1)\n",
            "Requirement already satisfied: requests>=1.0 in /usr/local/lib/python3.10/dist-packages (from owslib) (2.31.0)\n",
            "Requirement already satisfied: six>=1.5 in /usr/local/lib/python3.10/dist-packages (from python-dateutil>=1.5->owslib) (1.16.0)\n",
            "Requirement already satisfied: charset-normalizer<4,>=2 in /usr/local/lib/python3.10/dist-packages (from requests>=1.0->owslib) (3.3.2)\n",
            "Requirement already satisfied: idna<4,>=2.5 in /usr/local/lib/python3.10/dist-packages (from requests>=1.0->owslib) (3.7)\n",
            "Requirement already satisfied: urllib3<3,>=1.21.1 in /usr/local/lib/python3.10/dist-packages (from requests>=1.0->owslib) (2.0.7)\n",
            "Requirement already satisfied: certifi>=2017.4.17 in /usr/local/lib/python3.10/dist-packages (from requests>=1.0->owslib) (2024.2.2)\n",
            "Installing collected packages: owslib\n",
            "Successfully installed owslib-0.30.0\n"
          ]
        }
      ]
    },
    {
      "cell_type": "markdown",
      "source": [
        "### Lectura de fichero json proveniente de la detección."
      ],
      "metadata": {
        "id": "dJ5N2DC_lHBq"
      }
    },
    {
      "cell_type": "code",
      "execution_count": 2,
      "metadata": {
        "id": "IxfcduGFsLG5",
        "colab": {
          "base_uri": "https://localhost:8080/",
          "height": 211
        },
        "outputId": "3407836c-70e0-4402-a0f5-8fb22e2e1106"
      },
      "outputs": [
        {
          "output_type": "error",
          "ename": "FileNotFoundError",
          "evalue": "[Errno 2] No such file or directory: '/content/tesela_mapa_row4_col1.json'",
          "traceback": [
            "\u001b[0;31m---------------------------------------------------------------------------\u001b[0m",
            "\u001b[0;31mFileNotFoundError\u001b[0m                         Traceback (most recent call last)",
            "\u001b[0;32m<ipython-input-2-5b499dd45096>\u001b[0m in \u001b[0;36m<cell line: 6>\u001b[0;34m()\u001b[0m\n\u001b[1;32m      4\u001b[0m \u001b[0;34m\u001b[0m\u001b[0m\n\u001b[1;32m      5\u001b[0m \u001b[0;31m# Leer el archivo JSON\u001b[0m\u001b[0;34m\u001b[0m\u001b[0;34m\u001b[0m\u001b[0m\n\u001b[0;32m----> 6\u001b[0;31m \u001b[0;32mwith\u001b[0m \u001b[0mopen\u001b[0m\u001b[0;34m(\u001b[0m\u001b[0;34m'/content/tesela_mapa_row4_col1.json'\u001b[0m\u001b[0;34m,\u001b[0m \u001b[0;34m'r'\u001b[0m\u001b[0;34m)\u001b[0m \u001b[0;32mas\u001b[0m \u001b[0mf\u001b[0m\u001b[0;34m:\u001b[0m\u001b[0;34m\u001b[0m\u001b[0;34m\u001b[0m\u001b[0m\n\u001b[0m\u001b[1;32m      7\u001b[0m     \u001b[0mdata\u001b[0m \u001b[0;34m=\u001b[0m \u001b[0mjson\u001b[0m\u001b[0;34m.\u001b[0m\u001b[0mload\u001b[0m\u001b[0;34m(\u001b[0m\u001b[0mf\u001b[0m\u001b[0;34m)\u001b[0m\u001b[0;34m\u001b[0m\u001b[0;34m\u001b[0m\u001b[0m\n\u001b[1;32m      8\u001b[0m \u001b[0;34m\u001b[0m\u001b[0m\n",
            "\u001b[0;31mFileNotFoundError\u001b[0m: [Errno 2] No such file or directory: '/content/tesela_mapa_row4_col1.json'"
          ]
        }
      ],
      "source": [
        "import json\n",
        "#from pyproj import Transformer\n",
        "import numpy as np\n",
        "\n",
        "# Leer el archivo JSON\n",
        "with open('/content/tesela_mapa_row4_col1.json', 'r') as f:\n",
        "    data = json.load(f)\n",
        "\n",
        "# Extraer las coordenadas de los pasos de cebra detectados\n",
        "coords = []\n",
        "for obj in data['predictions']:\n",
        "    if obj['class'] == 'zebra-cross':\n",
        "        coords.append((obj['x'], obj['y']))\n",
        "\n",
        "# Imprimir las coordenadas de los pasos de cebra detectados\n",
        "print('Coordenadas de los pasos de cebra detectados:')\n",
        "for coord in coords:\n",
        "    print(coord)\n",
        "print(len(coords))\n",
        "\n",
        "unos = np.ones((1,len(coords)))\n",
        "\n",
        "coords = np.vstack(((np.array(coords).T, unos)))\n",
        "print(coords)"
      ]
    },
    {
      "cell_type": "markdown",
      "source": [
        "### Lectura de los ficheros mundo de cada tesela de imagen y transforamción de coords"
      ],
      "metadata": {
        "id": "5ostOXqslQZY"
      }
    },
    {
      "cell_type": "code",
      "source": [
        "# Definir la transformación afín\n",
        "import numpy as np\n",
        "\n",
        "# Leer los valores del archivo mundo\n",
        "with open('/content/tesela_mapa_row4_col1.jgw', 'r') as f:\n",
        "    mundo = [float(x.strip()) for x in f.readlines()]\n",
        "\n",
        "# Definir la matriz de transformación afín\n",
        "affine_transform = np.array([[mundo[0], 0, mundo[4]], [0, mundo[3], mundo[5]], [0, 0, 1]])\n",
        "\n",
        "# Imprimir la matriz de transformación afín\n",
        "print('Matriz de transformación afín:')\n",
        "print(affine_transform)\n"
      ],
      "metadata": {
        "id": "VjhCM5MrzXsA"
      },
      "execution_count": null,
      "outputs": []
    },
    {
      "cell_type": "code",
      "source": [
        "# Aplicar la transformación afín a las coordenadas locales\n",
        "abs_coords = affine_transform @ coords\n",
        "abs_coords = abs_coords[0:2,:].T\n",
        "print(abs_coords)\n"
      ],
      "metadata": {
        "id": "ldcDm1cg0lPh"
      },
      "execution_count": null,
      "outputs": []
    },
    {
      "cell_type": "markdown",
      "source": [
        "### Creación de fichero de puntos con centro de paso de cebra"
      ],
      "metadata": {
        "id": "gEJvDiMcleul"
      }
    },
    {
      "cell_type": "code",
      "source": [
        "### Dado que no se representa bien el shapefile sobre el mapa WMS en EPSG 25830 voy a crear un fichero de texto csv con las coords\n",
        "import csv\n",
        "import numpy as np\n",
        "\n",
        "# Suponiendo que 'abs_coords' es una matriz de NumPy\n",
        "# Por ejemplo: abs_coords = np.array([[x1, y1], [x2, y2], ..., [xn, yn]])\n",
        "\n",
        "# Convertir la matriz de NumPy a una lista de tuplas\n",
        "coords_list = abs_coords.tolist()\n",
        "\n",
        "# Crear un nuevo archivo csv\n",
        "with open('coords.csv', 'w', newline='') as f:\n",
        "    writer = csv.writer(f)\n",
        "\n",
        "    # Escribir los encabezados de las columnas\n",
        "    writer.writerow(['X', 'Y'])\n",
        "\n",
        "    # Escribir los valores de la matriz\n",
        "    for coord in coords_list:\n",
        "        writer.writerow(coord)\n",
        "\n",
        "print(\"Archivo csv creado con éxito.\")\n"
      ],
      "metadata": {
        "id": "ZI8E-OZgYV9b"
      },
      "execution_count": null,
      "outputs": []
    },
    {
      "cell_type": "code",
      "source": [
        "import shapefile\n",
        "\n",
        "# Suponiendo que 'coordinates' es una lista de tuplas (x, y)\n",
        "# Por ejemplo: coordinates = [(x1, y1), (x2, y2), ..., (xn, yn)]\n",
        "coordinates = abs_coords  #\n",
        "\n",
        "# Crear un nuevo shapefile en memoria\n",
        "w = shapefile.Writer('PasosCebra.shp', shapeType=shapefile.POINT)\n",
        "\n",
        "# Para cada punto, crear un punto en el shapefile\n",
        "for coord in coordinates:\n",
        "    w.point(*coord)\n",
        "\n",
        "# Agregar campos al shapefile. Aquí se agregan dos campos de ejemplo.\n",
        "w.field('X', 'F', decimal=10)\n",
        "w.field('Y', 'F', decimal=10)\n",
        "\n",
        "# Agregar registros para cada punto con sus coordenadas x, y\n",
        "for coord in coordinates:\n",
        "    w.record(*coord)\n",
        "# Definir el sistema de coordenadas del shapefile como EPSG 25830\n",
        "w.prj = open('PasosCebra.prj', 'w')\n",
        "w.prj.write('PROJCS[\"ETRS89 / UTM zone 30N\",GEOGCS[\"ETRS89\",DATUM[\"European_Terrestrial_Reference_System_1989\",SPHEROID[\"GRS 1980\",6378137,298.257222101,AUTHORITY[\"EPSG\",\"7019\"]],AUTHORITY[\"EPSG\",\"6258\"]],PRIMEM[\"Greenwich\",0,AUTHORITY[\"EPSG\",\"8901\"]],UNIT[\"degree\",0.0174532925199433,AUTHORITY[\"EPSG\",\"9122\"]],AUTHORITY[\"EPSG\",\"4258\"]],UNIT[\"metre\",1,AUTHORITY[\"EPSG\",\"9001\"]],PROJECTION[\"Transverse_Mercator\"],PARAMETER[\"latitude_of_origin\",0],PARAMETER[\"central_meridian\",-3],PARAMETER[\"scale_factor\",0.9996],PARAMETER[\"false_easting\",500000],PARAMETER[\"false_northing\",0],AUTHORITY[\"EPSG\",\"25830\"],AXIS[\"Easting\",EAST],AXIS[\"Northing\",NORTH]]')\n",
        "w.prj.close()\n",
        "\n",
        "# Guardar el shapefile\n",
        "w.close()\n",
        "# Guardar el shapefile\n",
        "w.close()\n",
        "\n",
        "print(\"Archivo shapefile creado con éxito.\")\n"
      ],
      "metadata": {
        "id": "dNmoUHYJ2Hrd"
      },
      "execution_count": null,
      "outputs": []
    },
    {
      "cell_type": "markdown",
      "source": [
        "### Visualizando los pasos de cebre sobra el mapa"
      ],
      "metadata": {
        "id": "8tFsuQPUMZAY"
      }
    },
    {
      "cell_type": "code",
      "source": [
        "import owslib.wms\n",
        "import io\n",
        "from PIL import Image\n",
        "import pandas as pd\n",
        "import geopandas as gpd\n",
        "import matplotlib.pyplot as plt\n",
        "\n",
        "## Estimando los limites para la orto\n",
        "\n",
        "df = pd.read_csv('coords.csv', header=0, names=['X', 'Y'])\n",
        "#print(df)\n",
        "min_X = df['X'].min()\n",
        "max_X = df['X'].max()\n",
        "\n",
        "min_Y = df['Y'].min()\n",
        "max_Y = df['Y'].max()\n",
        "\n",
        "margen = 150\n",
        "\n",
        "bbox=(min_X-margen, min_Y-margen, max_X+margen, max_Y+margen)\n",
        "print(bbox)\n",
        "size0 = max_X+margen - (min_X-margen)\n",
        "size1 = max_Y+margen - (min_Y-margen)\n",
        "\n",
        "# Conexión al servidor WMS del CNIG\n",
        "wms = owslib.wms.WebMapService('https://www.ign.es/wms-inspire/pnoa-ma', version='1.3.0')\n",
        "\n",
        "# Obtener la ortofoto deseada\n",
        "img = wms.getmap(layers=['OI.OrthoimageCoverage'], srs='EPSG:25830', bbox=bbox, size=(size0, size1), format='image/png', transparent=True)\n",
        "# bbox=(min_X-margen, min_Y-margen, max_X+margen, max_Y+margen)\n",
        "\n",
        "img_bytes = io.BytesIO(img.read())\n",
        "img = Image.open(img_bytes)\n",
        "\n",
        "\n",
        "# Crear un GeoDataFrame a partir del DataFrame\n",
        "# Cargar los datos del archivo csv\n",
        "\n",
        "gdf = gpd.GeoDataFrame(df, geometry=gpd.points_from_xy(df['X'], df['Y']), crs='EPSG:25830')\n",
        "print(gdf)\n",
        "\n",
        "# Crear una figura y un eje utilizando geopandas\n",
        "fig, ax = plt.subplots(figsize=(10, 10))\n",
        "\n",
        "# Agregar la ortofoto al eje\n",
        "ax.imshow(img, extent=bbox, aspect='equal')\n",
        "#extent = [min_X-margen, min_Y-margen, max_X+margen, max_Y+margen]\n",
        "\n",
        "# Agregar los puntos al eje\n",
        "gdf.plot(ax=ax, markersize=150, color='red')\n",
        "plt.grid('on')\n",
        "# Agregar etiquetas a los ejes\n",
        "ax.set_xlabel('Coordenada X')\n",
        "ax.set_ylabel('Coordenada Y')\n",
        "\n",
        "# Agregar un título a la figura\n",
        "ax.set_title('Ortofoto del PNOA con puntos en EPSG 25830')\n",
        "\n",
        "plt.show()\n"
      ],
      "metadata": {
        "id": "6_LdYGbTf3aL"
      },
      "execution_count": null,
      "outputs": []
    },
    {
      "cell_type": "code",
      "source": [
        "!pip install cartopy"
      ],
      "metadata": {
        "id": "1ZouleKENtfg"
      },
      "execution_count": null,
      "outputs": []
    },
    {
      "cell_type": "code",
      "source": [
        "import cartopy.crs as ccrs\n",
        "import matplotlib.pyplot as plt\n",
        "import geopandas as gpd\n",
        "import pandas as pd\n",
        "import owslib.wms\n",
        "import io\n",
        "from PIL import Image\n",
        "\n",
        "# Cargar los datos\n",
        "df = pd.read_csv('coords.csv', header=0, names=['X', 'Y'])\n",
        "gdf = gpd.GeoDataFrame(df, geometry=gpd.points_from_xy(df['X'], df['Y']), crs='EPSG:25830')\n",
        "\n",
        "# Calcular los límites con un margen\n",
        "margen = 150\n",
        "min_X = df['X'].min() - margen\n",
        "max_X = df['X'].max() + margen\n",
        "min_Y = df['Y'].min() - margen\n",
        "max_Y = df['Y'].max() + margen\n",
        "bbox = (min_X, min_Y, max_X, max_Y)\n",
        "print(bbox)\n",
        "# Conexión al servidor WMS del CNIG y obtención de la ortofoto\n",
        "wms = owslib.wms.WebMapService('https://www.ign.es/wms-inspire/pnoa-ma', version='1.3.0')\n",
        "\n",
        "# Tamaño de la imagen (puede necesitar ajuste para mantener la relación de aspecto)\n",
        "size = (int(2 * (max_X - min_X)), int(2 * (max_Y - min_Y)))\n",
        "\n",
        "# Obtener la ortofoto deseada\n",
        "img_request = wms.getmap(layers=['OI.OrthoimageCoverage'], srs='EPSG:25830', bbox=bbox, size=size, format='image/png', transparent=True)\n",
        "\n",
        "# Escribir la imagen a un archivo\n",
        "with open('ortofoto.png', 'wb') as f:\n",
        "    f.write(img_request.read())\n",
        "\n",
        "\n",
        "\n",
        "# Crear una figura y un eje con GeoAxes en la proyección UTM\n",
        "fig, ax = plt.subplots(figsize=(10, 10), subplot_kw={'projection': ccrs.UTM(zone=30)})\n",
        "\n",
        "# Establecer la extensión de los ejes\n",
        "ax.set_extent([min_X, max_X, min_Y, max_Y], crs=ccrs.UTM(zone=30))\n",
        "\n",
        "# Graficar la ortofoto como fondo\n",
        "ax.imshow(img, origin='upper', extent=bbox, transform=ccrs.UTM(zone=30), interpolation='nearest')\n",
        "\n",
        "# Graficar los puntos sobre la ortofoto\n",
        "#gdf.plot(ax=ax, markersize=150, color='red', transform=ccrs.UTM(zone=30))\n",
        "\n",
        "# Ajustar etiquetas y títulos\n",
        "ax.set_xlabel('Coordenada X')\n",
        "ax.set_ylabel('Coordenada Y')\n",
        "ax.set_title('Ortofoto del PNOA con puntos en EPSG 25830')\n",
        "\n",
        "plt.show()\n"
      ],
      "metadata": {
        "id": "ISI_Bg2EOhZq"
      },
      "execution_count": null,
      "outputs": []
    },
    {
      "cell_type": "code",
      "source": [
        "import matplotlib.pyplot as plt\n",
        "import geopandas as gpd\n",
        "from PIL import Image\n",
        "import cartopy.crs as ccrs\n",
        "\n",
        "# Asumiendo que ya tienes tu GeoDataFrame 'gdf' listo y en el CRS correcto\n",
        "# gdf = ...\n",
        "\n",
        "# Cargar la imagen de la ortofoto\n",
        "img = Image.open('ortofoto.png')\n",
        "\n",
        "# Crear una figura y un eje con GeoAxes en la proyección UTM\n",
        "fig, ax = plt.subplots(figsize=(10, 10), subplot_kw={'projection': ccrs.UTM(zone=30)})\n",
        "\n",
        "# Establecer la extensión de los ejes\n",
        "# Asegúrate de que bbox sea la misma que usaste para obtener la ortofoto\n",
        "ax.set_extent([min_X, max_X, min_Y, max_Y], crs=ccrs.UTM(zone=30))\n",
        "\n",
        "# Graficar la ortofoto como fondo\n",
        "# La extent debe coincidir con las coordenadas reales de tu ortofoto\n",
        "ax.imshow(img, origin='upper', extent=bbox, transform=ccrs.UTM(zone=30), interpolation='nearest')\n",
        "\n",
        "# Graficar los puntos sobre la ortofoto\n",
        "# Asegúrate de que 'gdf' esté en el mismo CRS que los ejes de cartopy\n",
        "gdf.plot(ax=ax, markersize=5, color='red', transform=ccrs.UTM(zone=30))\n",
        "\n",
        "# Ajustar etiquetas y títulos si es necesario\n",
        "ax.set_xlabel('Coordenada X')\n",
        "ax.set_ylabel('Coordenada Y')\n",
        "ax.set_title('Ortofoto del PNOA con puntos en EPSG 25830')\n",
        "\n",
        "plt.show()\n"
      ],
      "metadata": {
        "id": "O161IPLlRjww"
      },
      "execution_count": null,
      "outputs": []
    }
  ]
}