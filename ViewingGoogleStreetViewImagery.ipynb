{
  "nbformat": 4,
  "nbformat_minor": 0,
  "metadata": {
    "colab": {
      "provenance": [],
      "authorship_tag": "ABX9TyPPOEfud1FEvkDtcbnBC1TI",
      "include_colab_link": true
    },
    "kernelspec": {
      "name": "python3",
      "display_name": "Python 3"
    },
    "language_info": {
      "name": "python"
    }
  },
  "cells": [
    {
      "cell_type": "markdown",
      "metadata": {
        "id": "view-in-github",
        "colab_type": "text"
      },
      "source": [
        "<a href=\"https://colab.research.google.com/github/sgcortes/UrbanAccessibility/blob/main/ViewingGoogleStreetViewImagery.ipynb\" target=\"_parent\"><img src=\"https://colab.research.google.com/assets/colab-badge.svg\" alt=\"Open In Colab\"/></a>"
      ]
    },
    {
      "cell_type": "code",
      "source": [
        "import requests\n",
        "import json\n",
        "from IPython.display import display, Image\n",
        "\n",
        "# Define la ubicación de interés\n",
        "latitude = 40.748817\n",
        "longitude = -73.985428\n",
        "\n",
        "# Busca las pistas cerca de la ubicación\n",
        "response = requests.get(f\"http://openstreetcam.org/nearby-tracks?lat={latitude}&lng={longitude}\")\n",
        "\n",
        "# Comprueba que la solicitud fue exitosa\n",
        "if response.status_code == 200:\n",
        "    # Parsea la respuesta JSON\n",
        "    data = json.loads(response.text)\n",
        "\n",
        "    # Obtiene el ID de la primera pista\n",
        "    track_id = data['osv']['tracks'][0]['id']\n",
        "\n",
        "    # Busca las imágenes de la pista\n",
        "    response = requests.get(f\"http://openstreetcam.org/details/{track_id}/1\")\n",
        "\n",
        "    # Comprueba que la solicitud fue exitosa\n",
        "    if response.status_code == 200:\n",
        "        # Parsea la respuesta JSON\n",
        "        data = json.loads(response.text)\n",
        "\n",
        "        # Obtiene la URL de la primera imagen\n",
        "        image_url = data['osv']['photos'][0]['lth_name']\n",
        "\n",
        "        # Muestra la imagen\n",
        "        display(Image(url=image_url))\n",
        "    else:\n",
        "        print(f\"Error al obtener imágenes: {response.status_code}\")\n",
        "else:\n",
        "    print(f\"Error al buscar pistas: {response.status_code}\")\n"
      ],
      "metadata": {
        "colab": {
          "base_uri": "https://localhost:8080/"
        },
        "id": "jg1_Eo3QfhtT",
        "outputId": "33ae1374-a6ae-4d86-daee-517a515f0e19"
      },
      "execution_count": 1,
      "outputs": [
        {
          "output_type": "stream",
          "name": "stdout",
          "text": [
            "Error al buscar pistas: 405\n"
          ]
        }
      ]
    },
    {
      "cell_type": "code",
      "execution_count": 2,
      "metadata": {
        "id": "FdNKtGpQcobK",
        "colab": {
          "base_uri": "https://localhost:8080/"
        },
        "outputId": "17c134b3-9b11-49e3-a4f5-5d829366e8cd"
      },
      "outputs": [
        {
          "output_type": "stream",
          "name": "stdout",
          "text": [
            "Error: 403\n"
          ]
        }
      ],
      "source": [
        "import requests\n",
        "from IPython.display import Image\n",
        "\n",
        "# Ingresar la clave API de Google\n",
        "API_KEY = 'YOUR_GOOGLE_API_KEY' # Reemplaza con tu clave API de Google\n",
        "\n",
        "# Ingresar las coordenadas de latitud y longitud\n",
        "latitude = 40.748817\n",
        "longitude = -73.985428\n",
        "\n",
        "# Crear la URL para la solicitud de la API de Google Street View\n",
        "url = f\"https://maps.googleapis.com/maps/api/streetview?size=600x400&location={latitude},{longitude}&key={API_KEY}\"\n",
        "\n",
        "# Obtener la imagen de Street View\n",
        "response = requests.get(url)\n",
        "\n",
        "# Verificar que la solicitud fue exitosa\n",
        "if response.status_code == 200:\n",
        "    # Mostrar la imagen\n",
        "    display(Image(response.content))\n",
        "else:\n",
        "    print(f\"Error: {response.status_code}\")"
      ]
    }
  ]
}